{
  "nbformat": 4,
  "nbformat_minor": 0,
  "metadata": {
    "colab": {
      "provenance": [],
      "authorship_tag": "ABX9TyOTvOtS46xFqpExYDU7FDPc",
      "include_colab_link": true
    },
    "kernelspec": {
      "name": "python3",
      "display_name": "Python 3"
    },
    "language_info": {
      "name": "python"
    }
  },
  "cells": [
    {
      "cell_type": "markdown",
      "metadata": {
        "id": "view-in-github",
        "colab_type": "text"
      },
      "source": [
        "<a href=\"https://colab.research.google.com/github/gustvjor2005/blog-backend/blob/main/reber_rnn.ipynb\" target=\"_parent\"><img src=\"https://colab.research.google.com/assets/colab-badge.svg\" alt=\"Open In Colab\"/></a>"
      ]
    },
    {
      "cell_type": "markdown",
      "source": [
        "##Ejemplo RNN usando pytorch para Reber Grammar\n",
        "\n",
        "Para el entendimiento de Reber Gramamr y el modelo RNN se tomó como referencia http://christianherta.de/lehre/dataScience/machineLearning/neuralNetworks/reberGrammar.php"
      ],
      "metadata": {
        "id": "Dzvf28XS7rT_"
      }
    },
    {
      "cell_type": "code",
      "source": [
        "import torch\n",
        "import torch.nn as nn\n",
        "import numpy as np\n",
        "import reberGrammar"
      ],
      "metadata": {
        "id": "T1G8IHkYVbOX"
      },
      "execution_count": 1,
      "outputs": []
    },
    {
      "cell_type": "markdown",
      "source": [
        "Si tenemos la secuencia de entrada (que obedece a la gramatica de Reber, es decir sigue un recorrido correcto del grafo) nuestra secuecia target esta compuesto de: uno de los posibles valores siguientes de cada uno de los elementos de nuestro input.\n",
        "\n",
        "Por ejemplo para el input 'BPVPXTTTVPXVV' y target 'TTPSTTTTPSTPE':\n",
        "\n",
        "    B -> T\n",
        "    P -> T\n",
        "    V -> P\n",
        "    P -> S\n",
        "    X -> T\n",
        "    T -> T\n",
        "    T -> T\n",
        "    T -> T\n",
        "    V -> P\n",
        "    P -> S\n",
        "    X -> T\n",
        "    V -> P\n",
        "    V -> E  \n",
        "\n",
        "    Nota: en la secuencia de entrada no se considera la letra final 'E' , dado que esta no apunta a nigun otra.\n",
        "\n",
        "\n"
      ],
      "metadata": {
        "id": "M_tn2mbOqQRF"
      }
    },
    {
      "cell_type": "code",
      "source": [
        "#usamos Standar Reber Grammar\n",
        "\n",
        "x, y = reberGrammar.get_one_example(10)\n",
        "\n",
        "print(x, y)\n",
        "\n",
        "#pasar input y target a palabras\n",
        "x2word = reberGrammar.sequenceToWord(x)\n",
        "y2word = reberGrammar.sequenceToWord(y)\n",
        "\n",
        "print(x2word, y2word)"
      ],
      "metadata": {
        "colab": {
          "base_uri": "https://localhost:8080/"
        },
        "id": "AfQFgG5TQr09",
        "outputId": "f70f6ecc-1afb-442a-8bfa-2fcefb5be860"
      },
      "execution_count": 7,
      "outputs": [
        {
          "output_type": "stream",
          "name": "stdout",
          "text": [
            "[array([1., 0., 0., 0., 0., 0., 0.]), array([0., 1., 0., 0., 0., 0., 0.]), array([0., 0., 1., 0., 0., 0., 0.]), array([0., 0., 1., 0., 0., 0., 0.]), array([0., 0., 1., 0., 0., 0., 0.]), array([0., 0., 0., 1., 0., 0., 0.]), array([0., 0., 0., 1., 0., 0., 0.]), array([0., 0., 0., 0., 0., 1., 0.]), array([0., 0., 0., 0., 1., 0., 0.]), array([0., 0., 0., 1., 0., 0., 0.]), array([0., 1., 0., 0., 0., 0., 0.]), array([0., 1., 0., 0., 0., 0., 0.]), array([0., 0., 0., 0., 0., 1., 0.]), array([0., 0., 0., 0., 1., 0., 0.]), array([0., 0., 0., 1., 0., 0., 0.]), array([0., 1., 0., 0., 0., 0., 0.]), array([0., 1., 0., 0., 0., 0., 0.]), array([0., 0., 0., 0., 0., 1., 0.]), array([0., 0., 0., 0., 1., 0., 0.]), array([0., 0., 0., 1., 0., 0., 0.]), array([0., 1., 0., 0., 0., 0., 0.]), array([0., 1., 0., 0., 0., 0., 0.]), array([0., 0., 0., 0., 0., 1., 0.]), array([0., 0., 0., 0., 0., 1., 0.])] [array([0., 1., 0., 0., 1., 0., 0.]), array([0., 0., 1., 1., 0., 0., 0.]), array([0., 0., 1., 1., 0., 0., 0.]), array([0., 0., 1., 1., 0., 0., 0.]), array([0., 0., 1., 1., 0., 0., 0.]), array([0., 0., 1., 1., 0., 0., 0.]), array([0., 1., 0., 0., 0., 1., 0.]), array([0., 0., 0., 0., 1., 1., 0.]), array([0., 0., 1., 1., 0., 0., 0.]), array([0., 1., 0., 0., 0., 1., 0.]), array([0., 1., 0., 0., 0., 1., 0.]), array([0., 1., 0., 0., 0., 1., 0.]), array([0., 0., 0., 0., 1., 1., 0.]), array([0., 0., 1., 1., 0., 0., 0.]), array([0., 1., 0., 0., 0., 1., 0.]), array([0., 1., 0., 0., 0., 1., 0.]), array([0., 1., 0., 0., 0., 1., 0.]), array([0., 0., 0., 0., 1., 1., 0.]), array([0., 0., 1., 1., 0., 0., 0.]), array([0., 1., 0., 0., 0., 1., 0.]), array([0., 1., 0., 0., 0., 1., 0.]), array([0., 1., 0., 0., 0., 1., 0.]), array([0., 0., 0., 0., 1., 1., 0.]), array([0., 0., 0., 0., 0., 0., 1.])]\n",
            "BTSSSXXVPXTTVPXTTVPXTTVV TSSSSSTPSTTTPSTTTPSTTTPE\n"
          ]
        }
      ]
    },
    {
      "cell_type": "markdown",
      "source": [
        "Modelo RNN\n",
        "\n",
        "1. El tamaño de la secuencia del modelo RNN es igual al tamaño de caracteres generados, por ejemplo si tengo una sequencia 'BPVPXTTTVPXVV' , el tamaño será 13.\n",
        "\n",
        "  Nota : no confundir el tamaño de la secuencia del modelo con el número de features del input (input_size). El primero determina la cantidad de celdas rnn que tendrá el modelo y para nuestro caso es dinamico (lo cual ocurre normalemnte en una rnn), el segundo es estatico (para nuestro caso 7).\n",
        "\n",
        "2. En pytorch un cat (dim=1) es como agregar dos (o más) elementos sobre las columnas (o los features) , en este caso se agregan columnas del hidden respecto del input creando un nuevo tensor.\n",
        "\n",
        "\n"
      ],
      "metadata": {
        "id": "DVAApP8u8pgc"
      }
    },
    {
      "cell_type": "code",
      "source": [
        "class RNN(nn.Module):\n",
        "\n",
        "  def __init__(self, in_size, hid_size, out_size):\n",
        "    super().__init__()\n",
        "    self.hid_size = hid_size\n",
        "    self.i2h = nn.Linear(in_size + hid_size, hid_size)\n",
        "    self.h2t = nn.Tanh()\n",
        "    self.i2o = nn.Linear(hid_size, out_size)\n",
        "    self.o2s = nn.Sigmoid()\n",
        "\n",
        "  def forward(self, input, hidden):    \n",
        "    c = torch.cat((input, hidden), 1)\n",
        "    hidden = self.i2h(c)\n",
        "    hidden = self.h2t(hidden)\n",
        "    output = self.i2o(hidden)\n",
        "    output = self.o2s(output)\n",
        "    return output, hidden\n",
        "\n",
        "  #la inizializacion del hidden es para cada secuencia\n",
        "  #dado que los samples son independientes\n",
        "  def initHidden(self):\n",
        "    return torch.zeros(1, self.hid_size)"
      ],
      "metadata": {
        "id": "NmC6OM8DWVPa"
      },
      "execution_count": null,
      "outputs": []
    },
    {
      "cell_type": "markdown",
      "source": [
        "¿Cómo se determina el tamaño del hidden?"
      ],
      "metadata": {
        "id": "JpgDYpF_y4R_"
      }
    },
    {
      "cell_type": "code",
      "source": [
        "#features del input\n",
        "n_in = 7\n",
        "#tamaño del hidden\n",
        "n_hidden = 10\n",
        "#tamaño del target\n",
        "n_out = 7\n",
        "\n",
        "rnn = RNN(n_in, n_hidden, n_out)"
      ],
      "metadata": {
        "id": "ZA8THyXdlRa3"
      },
      "execution_count": null,
      "outputs": []
    },
    {
      "cell_type": "markdown",
      "source": [
        "Funcion de perdida Binary Cross Entropy\n",
        "\n",
        "¿El resultado es o no es el caracter que esperada?\n",
        "\n",
        "Por ejemplo:\n",
        "\n",
        "    B -> T \n",
        "    la representación del T es : [0, 1, 0, 0, 0, 0, 0]\n",
        "    lo obtenido por el forward es: [0.2, .89, .32, .65, 0.2, 0.2, 0.2]\n",
        "    entonces la perdida se analiza respecto a esos dos valores, pero para una secuencia completa"
      ],
      "metadata": {
        "id": "geVUGyz-zKoU"
      }
    },
    {
      "cell_type": "code",
      "source": [
        "def criterion(yhat, y):\n",
        "  c = -torch.mean(y * torch.log(yhat) + (1 -y) * torch.log(1 -yhat))\n",
        "  return c\n",
        "\n",
        "#optimizador\n",
        "optimizer = torch.optim.SGD(rnn.parameters(), lr=.2)"
      ],
      "metadata": {
        "id": "5Vo9C7PqzscO"
      },
      "execution_count": null,
      "outputs": []
    },
    {
      "cell_type": "code",
      "source": [
        "# x: sequencia de entrada por ejemplo 'BPVPS'\n",
        "# y: target, sequencia del salida, por ejemplo 'TTPSE'\n",
        "def train(x, y):\n",
        "  #por cada sequencia reiniciamos el hidden\n",
        "  hidden = rnn.initHidden()\n",
        "  #resultado de una secuencia\n",
        "  outputs = []\n",
        "  rnn.train()\n",
        "  #recorremos las celdas del RNN\n",
        "  for i in range(x.size()[0]):\n",
        "    #output salida de un caracter\n",
        "    output, hidden = rnn(x[i].view(1, 7), hidden)\n",
        "    #concatenamos para tener la salida \n",
        "    #de la sequencia\n",
        "    outputs.append(output)  \n",
        "  r = torch.cat(outputs, dim=0)\n",
        "  #el calculo de la perdida respeco a toda la secuencia\n",
        "  loss = criterion(r, y)\n",
        "  optimizer.zero_grad()\n",
        "  loss.backward()\n",
        "  optimizer.step()\n",
        "\n",
        "  return output, hidden, loss.item()"
      ],
      "metadata": {
        "id": "b1UnGg3Mfid5"
      },
      "execution_count": null,
      "outputs": []
    },
    {
      "cell_type": "code",
      "source": [
        "#entrenamiento\n",
        "def train_rnn(train_data, epochs=50):\n",
        "  losses = []\n",
        "  for i in range(epochs):\n",
        "    loss = 0.0\n",
        "    for j in range(len(train_data)):\n",
        "      #index = np.random.randint(0, len(train_data))\n",
        "      x, y = train_data[j]\n",
        "      x_ = torch.tensor(np.array(x), dtype=torch.float)\n",
        "      y_ = torch.tensor(np.array(y), dtype=torch.float)      \n",
        "      output, _, cost  = train(x_, y_)\n",
        "      loss += cost\n",
        "    #print(loss)      \n",
        "    losses.append(loss)\n",
        "  return output, losses\n",
        "\n",
        "#para inferencia\n",
        "def prediction(sequence):\n",
        "  x = torch.tensor(np.array(sequence), dtype=torch.float)\n",
        "  hidden = rnn.initHidden()\n",
        "  rnn.eval()\n",
        "  with torch.no_grad():\n",
        "    outputs = []\n",
        "    for i in range(x.size()[0]):\n",
        "      output, hidden = rnn(x[i].view(1, 7), hidden)\n",
        "      outputs.append(output)\n",
        "    r = torch.cat(outputs, dim=0)\n",
        "\n",
        "  return r"
      ],
      "metadata": {
        "id": "fN6X5rS_ks70"
      },
      "execution_count": null,
      "outputs": []
    },
    {
      "cell_type": "code",
      "source": [
        "#n examples\n",
        "#[('BTSSSXS', 'TSSSSSE'), ('BTSSSXS', 'TSSSSSE'), ...]\n",
        "samples = 1000\n",
        "epochs = 10\n",
        "train_data = reberGrammar.get_n_examples(samples)\n",
        "out, losses = train_rnn(train_data, epochs)"
      ],
      "metadata": {
        "colab": {
          "base_uri": "https://localhost:8080/"
        },
        "id": "Lzg0qcq5tzyA",
        "outputId": "2195e6db-9c64-4d14-afa9-ca9829689344"
      },
      "execution_count": null,
      "outputs": [
        {
          "output_type": "stream",
          "name": "stdout",
          "text": [
            "54.9206629791297\n",
            "12.627081093378365\n",
            "7.5397953821811825\n",
            "5.752908568596467\n",
            "4.720134835923091\n",
            "4.0252282151486725\n",
            "3.5196140301413834\n",
            "3.133010894758627\n",
            "2.8268354159081355\n",
            "2.577812028932385\n"
          ]
        }
      ]
    },
    {
      "cell_type": "code",
      "source": [
        "%matplotlib inline\n",
        "import matplotlib.pyplot as plt\n",
        "def plot_learning_curve(train_errors):\n",
        "    plt.plot(np.arange(10), train_errors, 'b-')\n",
        "    plt.xlabel('epochs')\n",
        "    plt.ylabel('error')\n",
        "plot_learning_curve(losses)"
      ],
      "metadata": {
        "colab": {
          "base_uri": "https://localhost:8080/",
          "height": 449
        },
        "id": "Dnr6eBvUuXkS",
        "outputId": "b47ac52c-c393-4d58-8e10-cfad6f267582"
      },
      "execution_count": null,
      "outputs": [
        {
          "output_type": "display_data",
          "data": {
            "text/plain": [
              "<Figure size 640x480 with 1 Axes>"
            ],
            "image/png": "[encoded data removed]"
          },
          "metadata": {}
        }
      ]
    },
    {
      "cell_type": "code",
      "source": [
        "x, y = reberGrammar.get_one_example(5)\n",
        "p = prediction(x)"
      ],
      "metadata": {
        "id": "qGy6M5YDlwaB"
      },
      "execution_count": null,
      "outputs": []
    },
    {
      "cell_type": "code",
      "source": [
        "for pred, target in zip(p, np.array(y)):\n",
        "  print('target ',target)\n",
        "  print('pred ', pred, '\\n')"
      ],
      "metadata": {
        "colab": {
          "base_uri": "https://localhost:8080/"
        },
        "id": "W3K_RFrXr2Sf",
        "outputId": "ee850b49-8d32-42ff-d4fc-cfa6df9eac15"
      },
      "execution_count": null,
      "outputs": [
        {
          "output_type": "stream",
          "name": "stdout",
          "text": [
            "target  [0. 1. 0. 0. 1. 0. 0.]\n",
            "pred  tensor([0.0027, 0.9981, 0.0018, 0.0024, 0.9996, 0.0026, 0.0014]) \n",
            "\n",
            "target  [0. 0. 1. 1. 0. 0. 0.]\n",
            "pred  tensor([8.1255e-04, 1.0384e-02, 9.8393e-01, 9.8499e-01, 5.3235e-05, 2.2454e-03,\n",
            "        1.0505e-02]) \n",
            "\n",
            "target  [0. 0. 1. 1. 0. 0. 0.]\n",
            "pred  tensor([4.2724e-05, 2.4063e-06, 9.9791e-01, 9.9799e-01, 5.8277e-06, 1.9873e-06,\n",
            "        4.0989e-03]) \n",
            "\n",
            "target  [0. 0. 1. 1. 0. 0. 0.]\n",
            "pred  tensor([1.2158e-04, 2.0084e-03, 9.9649e-01, 9.9686e-01, 4.8143e-07, 1.5976e-03,\n",
            "        5.2040e-05]) \n",
            "\n",
            "target  [0. 1. 0. 0. 0. 1. 0.]\n",
            "pred  tensor([3.4958e-04, 9.9937e-01, 1.1828e-04, 1.7417e-04, 1.4488e-04, 9.9996e-01,\n",
            "        3.5055e-06]) \n",
            "\n",
            "target  [0. 0. 0. 0. 1. 1. 0.]\n",
            "pred  tensor([6.2583e-04, 4.3989e-03, 2.5414e-07, 1.8237e-07, 9.9500e-01, 9.9995e-01,\n",
            "        6.1451e-03]) \n",
            "\n",
            "target  [0. 0. 1. 1. 0. 0. 0.]\n",
            "pred  tensor([7.3084e-04, 1.5371e-03, 9.9682e-01, 9.9681e-01, 1.1610e-06, 4.6044e-04,\n",
            "        1.4137e-03]) \n",
            "\n",
            "target  [0. 1. 0. 0. 0. 1. 0.]\n",
            "pred  tensor([5.6380e-04, 9.9865e-01, 1.1306e-04, 1.5593e-04, 4.0771e-04, 9.9997e-01,\n",
            "        1.2475e-05]) \n",
            "\n",
            "target  [0. 1. 0. 0. 0. 1. 0.]\n",
            "pred  tensor([2.1150e-04, 9.9952e-01, 2.3324e-05, 3.4538e-05, 5.2018e-04, 9.9997e-01,\n",
            "        1.5731e-06]) \n",
            "\n",
            "target  [0. 1. 0. 0. 0. 1. 0.]\n",
            "pred  tensor([2.1119e-04, 9.9926e-01, 2.3050e-05, 3.4968e-05, 3.1492e-04, 9.9996e-01,\n",
            "        2.2462e-06]) \n",
            "\n",
            "target  [0. 0. 0. 0. 1. 1. 0.]\n",
            "pred  tensor([5.8556e-04, 3.3495e-03, 2.8367e-07, 2.0373e-07, 9.9489e-01, 9.9993e-01,\n",
            "        6.7271e-03]) \n",
            "\n",
            "target  [0. 0. 0. 0. 0. 0. 1.]\n",
            "pred  tensor([3.3432e-03, 3.1185e-06, 9.9754e-03, 9.0838e-03, 7.3754e-03, 1.3841e-03,\n",
            "        9.9465e-01]) \n",
            "\n"
          ]
        }
      ]
    }
  ]
}